{
 "cells": [
  {
   "cell_type": "code",
   "execution_count": 1,
   "metadata": {},
   "outputs": [],
   "source": [
    "import h5py\n",
    "import numpy as np\n",
    "import time"
   ]
  },
  {
   "cell_type": "code",
   "execution_count": 6,
   "metadata": {},
   "outputs": [],
   "source": [
    "data_path = 'C://Users/jbrown/Desktop/research/arg/signal_data/' # Path to electrode signal data\n",
    "\n",
    "with h5py.File(data_path + '10b_1w/subset_0/unprocessed_data/reconstruction_pre_interpolation.hdf5', 'r') as f:\n",
    "    data = f['pre_decoded_data'][:, :]"
   ]
  },
  {
   "cell_type": "code",
   "execution_count": 7,
   "metadata": {},
   "outputs": [],
   "source": [
    "with h5py.File(data_path + '10b_1w/subset_0/dataset.h5', 'w') as f:\n",
    "    dset = f.create_dataset(\"raw_output\", (513, 7200000), dtype = 'int16', data = data, chunks = (513, 100000), compression = \"gzip\")"
   ]
  },
  {
   "cell_type": "code",
   "execution_count": 9,
   "metadata": {},
   "outputs": [],
   "source": [
    "data_path = 'C://Users/jbrown/Desktop/research/arg/signal_data/' # Path to electrode signal data\n",
    "\n",
    "with h5py.File(data_path + 'subset_0/data000_360s.mat', 'r') as f:\n",
    "    data = f['newData'][:, :]"
   ]
  },
  {
   "cell_type": "code",
   "execution_count": 10,
   "metadata": {},
   "outputs": [],
   "source": [
    "with h5py.File(data_path + '10b_1w/subset_0/dataset.h5', 'a') as f:\n",
    "    dset = f.create_dataset(\"full_resolution\", (513, 7200000), dtype = 'int16', data = data, chunks = (513, 100000), compression = \"gzip\")"
   ]
  },
  {
   "cell_type": "code",
   "execution_count": 8,
   "metadata": {},
   "outputs": [],
   "source": [
    "del data"
   ]
  },
  {
   "cell_type": "code",
   "execution_count": 35,
   "metadata": {},
   "outputs": [
    {
     "name": "stdout",
     "output_type": "stream",
     "text": [
      "[[  0   0]\n",
      " [ -5 -56]]\n"
     ]
    }
   ],
   "source": [
    "with h5py.File(data_path + '10b_1w/subset_0/dataset.h5', 'r') as f:\n",
    "    dname, ds = f.items()\n",
    "    print(dname[1][:2, :2])"
   ]
  },
  {
   "cell_type": "code",
   "execution_count": 31,
   "metadata": {},
   "outputs": [],
   "source": [
    "import os"
   ]
  },
  {
   "cell_type": "code",
   "execution_count": 33,
   "metadata": {},
   "outputs": [
    {
     "data": {
      "text/plain": [
       "'C:\\\\Users\\\\jbrown\\\\Desktop\\\\research\\\\arg\\\\fast_decode'"
      ]
     },
     "execution_count": 33,
     "metadata": {},
     "output_type": "execute_result"
    }
   ],
   "source": [
    "os.getcwd()"
   ]
  },
  {
   "cell_type": "code",
   "execution_count": null,
   "metadata": {},
   "outputs": [],
   "source": []
  }
 ],
 "metadata": {
  "kernelspec": {
   "display_name": "Python 3",
   "language": "python",
   "name": "python3"
  },
  "language_info": {
   "codemirror_mode": {
    "name": "ipython",
    "version": 3
   },
   "file_extension": ".py",
   "mimetype": "text/x-python",
   "name": "python",
   "nbconvert_exporter": "python",
   "pygments_lexer": "ipython3",
   "version": "3.7.6"
  }
 },
 "nbformat": 4,
 "nbformat_minor": 4
}
